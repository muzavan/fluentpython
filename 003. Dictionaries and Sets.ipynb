{
 "cells": [
  {
   "cell_type": "code",
   "execution_count": 1,
   "metadata": {},
   "outputs": [],
   "source": [
    "# dict comprehensions\n",
    "dial_codes = [ \n",
    "    (880, 'Bangladesh'),\n",
    "    (55,  'Brazil'),\n",
    "    (86,  'China'),\n",
    "    (91,  'India'),\n",
    "    (62,  'Indonesia'),\n",
    "    (81,  'Japan'),\n",
    "    (234, 'Nigeria'),\n",
    "    (92,  'Pakistan'),\n",
    "    (7,   'Russia'),\n",
    "    (1,   'United States'),\n",
    "]\n",
    "\n",
    "cc = {country:code for code, country in dial_codes}\n",
    "cc"
   ]
  },
  {
   "cell_type": "code",
   "execution_count": 2,
   "metadata": {},
   "outputs": [],
   "source": [
    "# using set default \n",
    "# to handle value update without checking first\n",
    "\n",
    "d = {}\n",
    "\n",
    "# this is awkward\n",
    "item = d.get(\"1\", [])\n",
    "item.append(0)\n",
    "d[\"1\"] = item\n",
    "d"
   ]
  },
  {
   "cell_type": "code",
   "execution_count": 3,
   "metadata": {},
   "outputs": [],
   "source": [
    "d = {}\n",
    "\n",
    "# this is better\n",
    "d.setdefault(\"1\", []).append(0)\n",
    "d\n",
    "\n",
    "# essentially same like this\n",
    "# but do it as single lookup\n",
    "\n",
    "# this code might do two or three lookup\n",
    "# if \"1\" not in d:\n",
    "#     d[\"1\"] = []\n",
    "# d[\"1\"].append(0)\n"
   ]
  },
  {
   "cell_type": "code",
   "execution_count": 4,
   "metadata": {},
   "outputs": [],
   "source": [
    "# Since python 3.6 the order of keys is guaranteed based on the insertion order\n",
    "# so collections.OrderedDict only used to maintain backward compatibility\n",
    "# other than that, the behavior should be the same as normal dict."
   ]
  },
  {
   "cell_type": "code",
   "execution_count": 5,
   "metadata": {},
   "outputs": [],
   "source": [
    "# Set\n",
    "# it's element must be hashable\n",
    "# implement most set theory operation\n",
    "\n",
    "# For immutable counterpart, use frozenset\n",
    "\n",
    "# TIL\n",
    "# {1, 2, 3} is faster than set([1, 2, 3])\n",
    "# the 2nd approach needs to lookup set method, then create list and than call the method\n",
    "# the 1st approach is immediately run specialized BUILD_SET bytecode\n",
    "\n",
    "# Set Comprehension\n",
    "\n",
    "country_set = {country for _, country in dial_codes}\n",
    "country_set"
   ]
  },
  {
   "cell_type": "code",
   "execution_count": 6,
   "metadata": {},
   "outputs": [],
   "source": [
    "# Related to the dynamic allocation\n",
    "# In case the hash table is almost full \n",
    "# (Python set generally maintain at leas 1/3 table to be empty)\n",
    "\n",
    "# All this may seem like a lot of work, \n",
    "# but even with millions of items in a set, \n",
    "# many insertions happen with no collisions, \n",
    "# and the average number of collisions per insertion is between one and two. \n",
    "# Under normal usage, even the unluckiest elements can be placed \n",
    "# after a handful of collisions are resolved."
   ]
  },
  {
   "cell_type": "code",
   "execution_count": 7,
   "metadata": {},
   "outputs": [
    {
     "data": {
      "text/plain": [
       "True"
      ]
     },
     "execution_count": 7,
     "metadata": {},
     "output_type": "execute_result"
    }
   ],
   "source": [
    "s = {1.0, 2.0, 3.0}\n",
    "# What happen if we call s.add(1) ?\n",
    "\n",
    "# Python set check based on __hash__ and __eq__\n",
    "\n",
    "hash(1) == hash(1.0) and 1 == 1.0"
   ]
  },
  {
   "cell_type": "code",
   "execution_count": 8,
   "metadata": {},
   "outputs": [
    {
     "data": {
      "text/plain": [
       "{1.0, 2.0, 3.0}"
      ]
     },
     "execution_count": 8,
     "metadata": {},
     "output_type": "execute_result"
    }
   ],
   "source": [
    "# Since it's true, it won't add new element (wow, this might led to a bug)\n",
    "s.add(1)\n",
    "s"
   ]
  },
  {
   "cell_type": "code",
   "execution_count": 9,
   "metadata": {},
   "outputs": [
    {
     "data": {
      "text/plain": [
       "{1, 2.0, 3.0}"
      ]
     },
     "execution_count": 9,
     "metadata": {},
     "output_type": "execute_result"
    }
   ],
   "source": [
    "# Note that python store the previously insterted number\n",
    "s.remove(1)\n",
    "s.add(1)\n",
    "s.add(1.0)\n",
    "s"
   ]
  },
  {
   "cell_type": "code",
   "execution_count": 10,
   "metadata": {},
   "outputs": [],
   "source": [
    "# Since Python actually implement set as hashtable\n",
    "# Actually, the memory overhead is quite significant\n",
    "\n",
    "# Adding elements to a set may change the order of other elements. \n",
    "# That’s because, as the hash table is filled, Python may need to recreate it to keep at least ⅓ of the buckets empty. \n",
    "# When this happens, elements are reinserted and different collisions may occur."
   ]
  },
  {
   "cell_type": "code",
   "execution_count": 11,
   "metadata": {},
   "outputs": [],
   "source": [
    "# TIL\n",
    "# Previously, dict implemented as set with value\n",
    "# So, the hashtable looks like\n",
    "# [(hashcode, pointer to key, pointer to value)] (1 element has 192 bits)\n",
    "\n",
    "# But after python 3.3, the index is separated\n",
    "# So\n",
    "# [indexes] (8 bits)\n",
    "# and \n",
    "# actual element -> [(hashcode, pointer to key, pointer to value)] (192 bits)\n",
    "# In practice, this can help to minimalize the grow of actual element table\n",
    "\n",
    "# Since previously, to maintain the index (even the one that has no element have to be allocated!)\n",
    "# Creating sparse hashtable"
   ]
  },
  {
   "cell_type": "code",
   "execution_count": null,
   "metadata": {},
   "outputs": [],
   "source": []
  }
 ],
 "metadata": {
  "kernelspec": {
   "display_name": "Python 3.7.7 64-bit ('base': conda)",
   "language": "python",
   "name": "python37764bitbaseconda2851dcd93cad4c6ea45225805e0bf801"
  },
  "language_info": {
   "codemirror_mode": {
    "name": "ipython",
    "version": 3
   },
   "file_extension": ".py",
   "mimetype": "text/x-python",
   "name": "python",
   "nbconvert_exporter": "python",
   "pygments_lexer": "ipython3",
   "version": "3.7.7"
  }
 },
 "nbformat": 4,
 "nbformat_minor": 4
}
