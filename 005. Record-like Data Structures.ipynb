{
 "cells": [
  {
   "cell_type": "code",
   "execution_count": 1,
   "metadata": {},
   "outputs": [
    {
     "name": "stdout",
     "output_type": "stream",
     "text": [
      "True\n",
      "True\n",
      "Coordinate(lat=10, long='What?')\n"
     ]
    }
   ],
   "source": [
    "import typing\n",
    "\n",
    "# Similar to collections.NamedTuple, \n",
    "# but give a capability to define type\n",
    "# Note that type only used for type hinting for static code analysis\n",
    "# It does not affect runtime\n",
    "Coordinate = typing.NamedTuple('Coordinate', [('lat', float), ('long', float)])\n",
    "\n",
    "print(issubclass(Coordinate, tuple))\n",
    "\n",
    "loc = Coordinate(10, 105)\n",
    "\n",
    "print(loc == Coordinate(10, 105))\n",
    "\n",
    "weird_loc = Coordinate(10, \"What?\")\n",
    "print(weird_loc)"
   ]
  },
  {
   "cell_type": "code",
   "execution_count": 2,
   "metadata": {},
   "outputs": [
    {
     "name": "stdout",
     "output_type": "stream",
     "text": [
      "10.0°N, 93.0°W\n"
     ]
    }
   ],
   "source": [
    "# Can be used as superclass\n",
    "# To avoid cumbersome class definition\n",
    "\n",
    "from typing import NamedTuple\n",
    "\n",
    "class Coordinate(NamedTuple):\n",
    "\n",
    "    lat: float\n",
    "    long: float\n",
    "\n",
    "    def __str__(self):\n",
    "        ns = 'N' if self.lat >= 0 else 'S'\n",
    "        we = 'E' if self.long >= 0 else 'W'\n",
    "        return f\"{abs(self.lat):.1f}°{ns}, {abs(self.long):.1f}°{we}\"\n",
    "    \n",
    "loc = Coordinate(10, -93)\n",
    "\n",
    "print(loc)"
   ]
  },
  {
   "cell_type": "code",
   "execution_count": 3,
   "metadata": {},
   "outputs": [
    {
     "name": "stdout",
     "output_type": "stream",
     "text": [
      "False\n",
      "True\n"
     ]
    }
   ],
   "source": [
    "# Although NamedTuple appears in the class statement as a superclass, \n",
    "# it’s actually not. \n",
    "# typing.NamedTuple uses the advanced functionality of a metaclass\n",
    "# to customize the creation of the user’s class.\n",
    "\n",
    "print(issubclass(Coordinate, NamedTuple))\n",
    "print(issubclass(Coordinate, tuple))"
   ]
  },
  {
   "cell_type": "code",
   "execution_count": 4,
   "metadata": {},
   "outputs": [
    {
     "name": "stdout",
     "output_type": "stream",
     "text": [
      "10.0°N, 93.0°W\n",
      "False\n",
      "True\n"
     ]
    }
   ],
   "source": [
    "# Can use dataclasses decorator as well\n",
    "from dataclasses import dataclass\n",
    "\n",
    "@dataclass(frozen=True)\n",
    "class Coordinate:    \n",
    "    lat: float    \n",
    "    long: float    \n",
    "    def __str__(self):        \n",
    "        ns = 'N' if self.lat >= 0 else 'S'        \n",
    "        we = 'E' if self.long >= 0 else 'W'        \n",
    "        return f'{abs(self.lat):.1f}°{ns}, {abs(self.long):.1f}°{we}'\n",
    "    \n",
    "loc = Coordinate(10, -93)\n",
    "print(loc)\n",
    "print(issubclass(Coordinate, tuple))\n",
    "print(issubclass(Coordinate, object))"
   ]
  },
  {
   "cell_type": "code",
   "execution_count": 5,
   "metadata": {},
   "outputs": [],
   "source": [
    "# Difference\n",
    "# namedtuple and NamedTuple generate tuple-based class so it's immutable\n",
    "# dataclass is mutable\n",
    "# (although frozen=True made it raises exception when you try to update the attr)\n",
    "\n",
    "# Each instance of a class built by namedtuple \n",
    "# takes exactly the same amount of memory a tuple \n",
    "# because the field names are stored in the class. \n",
    "# They use less memory than a regular object \n",
    "# because they don’t store attributes as key-value \n",
    "# pairs in one __dict__ for each instance.\n",
    "\n"
   ]
  },
  {
   "cell_type": "code",
   "execution_count": 6,
   "metadata": {},
   "outputs": [],
   "source": [
    "# Note on NamedTuple or DataClass\n",
    "\n",
    "# TLDR; it might be a code smell!\n",
    "\n",
    "# If a class is widely used but has no significant behavior of its own, \n",
    "# it’s possible that code dealing with its instances is scattered \n",
    "# (and even duplicated) in methods and functions throughout \n",
    "# the system—a recipe for maintenance headaches.\n",
    "\n",
    "# Might not be the case if\n",
    "# - dataclass as scaffolding\n",
    "# - dataclass as intermediate representation (eventually converted as JSON etc)"
   ]
  }
 ],
 "metadata": {
  "kernelspec": {
   "display_name": "Python 3.7.7 64-bit ('base': conda)",
   "language": "python",
   "name": "python37764bitbaseconda2851dcd93cad4c6ea45225805e0bf801"
  },
  "language_info": {
   "codemirror_mode": {
    "name": "ipython",
    "version": 3
   },
   "file_extension": ".py",
   "mimetype": "text/x-python",
   "name": "python",
   "nbconvert_exporter": "python",
   "pygments_lexer": "ipython3",
   "version": "3.7.7"
  }
 },
 "nbformat": 4,
 "nbformat_minor": 4
}
